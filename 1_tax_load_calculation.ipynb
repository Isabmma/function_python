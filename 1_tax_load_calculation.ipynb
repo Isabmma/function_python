{
 "cells": [
  {
   "cell_type": "markdown",
   "metadata": {},
   "source": [
    "## 1. Function for Tax Load Calculation\n",
    "\n",
    "(Remembering, don't pay attention to the real operation of the tax burden, it's just an imaginary example to train the functions with something more practical)\n",
    "\n",
    "Imagine that you work in the accounting department of a large retail company.\n",
    "\n",
    "Create a function that calculates the % of tax burden that is being applied to a given product, given its sales price, \"profit\" and costs (excluding tax)."
   ]
  },
  {
   "cell_type": "code",
   "execution_count": 4,
   "metadata": {},
   "outputs": [],
   "source": [
    "value = 1500\n",
    "cost = 400\n",
    "profit = 800"
   ]
  },
  {
   "cell_type": "markdown",
   "metadata": {},
   "source": [
    "Note that price - cost is not equal to profit, because the tax was still deducted. Your function should calculate what was the % of tax applied on the total price."
   ]
  },
  {
   "cell_type": "code",
   "execution_count": 5,
   "metadata": {},
   "outputs": [
    {
     "name": "stdout",
     "output_type": "stream",
     "text": [
      "20.0\n"
     ]
    }
   ],
   "source": [
    "def calculate_tax(value, cost, profit):\n",
    "  tax = value - cost - profit\n",
    "  percent_tax = (tax/value)*100\n",
    "\n",
    "  return percent_tax"
   ]
  },
  {
   "cell_type": "code",
   "execution_count": 6,
   "metadata": {},
   "outputs": [
    {
     "name": "stdout",
     "output_type": "stream",
     "text": [
      "the tax percent of the product with the value of 1500 was 20.0%.\n"
     ]
    }
   ],
   "source": [
    "percent_tax = calculate_tax(value, cost, profit)\n",
    "\n",
    "print(f\"The tax percent of the product with the value of {value} was {percent_tax}%.\")"
   ]
  }
 ],
 "metadata": {
  "kernelspec": {
   "display_name": "Python 3.10.4 64-bit",
   "language": "python",
   "name": "python3"
  },
  "language_info": {
   "codemirror_mode": {
    "name": "ipython",
    "version": 3
   },
   "file_extension": ".py",
   "mimetype": "text/x-python",
   "name": "python",
   "nbconvert_exporter": "python",
   "pygments_lexer": "ipython3",
   "version": "3.10.4"
  },
  "vscode": {
   "interpreter": {
    "hash": "396a487d0f9a1aeea6eec7e2661c1b70bd880358e710a503b71d50d0e4959784"
   }
  }
 },
 "nbformat": 4,
 "nbformat_minor": 4
}
