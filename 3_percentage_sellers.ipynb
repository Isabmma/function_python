{
 "cells": [
  {
   "cell_type": "markdown",
   "metadata": {},
   "source": [
    "## 3. Calculation of Percentage and List of Sellers\n",
    "\n",
    "- We want to create a function that can identify the salespeople who have reached a goal, but in addition, I can already give myself the calculation of the % of the list of salespeople who have reached the goal as an answer (so I don't have to manually calculate it later)\n",
    "- This function must receive 2 pieces of information as a parameter: the goal and a dictionary with the sellers and their sales. And give me 2 answers: a list with the name of the salespeople who hit the goal and the % of salespeople who hit the goal."
   ]
  },
  {
   "cell_type": "code",
   "execution_count": 3,
   "metadata": {},
   "outputs": [],
   "source": [
    "goal = 10000\n",
    "sales = {\n",
    "    'João': 15000,\n",
    "    'Julia': 27000,\n",
    "    'Marcus': 9900,\n",
    "    'Maria': 3750,\n",
    "    'Ana': 10300,\n",
    "    'Alon': 7870,\n",
    "}"
   ]
  },
  {
   "cell_type": "code",
   "execution_count": 6,
   "metadata": {},
   "outputs": [],
   "source": [
    "def percentage_calculation(goal, sales):\n",
    "  achieved_goal = []\n",
    "  for item in sales.items():\n",
    "    if item[1] >= goal:\n",
    "       achieved_goal.append(item[0])\n",
    "  \n",
    "  percent_goal = (len(achieved_goal)/len(sales))*100\n",
    "\n",
    "  return achieved_goal, percent_goal"
   ]
  },
  {
   "cell_type": "code",
   "execution_count": 7,
   "metadata": {},
   "outputs": [
    {
     "name": "stdout",
     "output_type": "stream",
     "text": [
      "['João', 'Julia', 'Ana']\n",
      "50.0\n"
     ]
    }
   ],
   "source": [
    "achieved_goal, percent_goal = percentage_calculation(goal, sales)\n",
    "print(achieved_goal)\n",
    "print(percent_goal)"
   ]
  }
 ],
 "metadata": {
  "kernelspec": {
   "display_name": "Python 3.10.4 64-bit",
   "language": "python",
   "name": "python3"
  },
  "language_info": {
   "codemirror_mode": {
    "name": "ipython",
    "version": 3
   },
   "file_extension": ".py",
   "mimetype": "text/x-python",
   "name": "python",
   "nbconvert_exporter": "python",
   "pygments_lexer": "ipython3",
   "version": "3.10.4"
  },
  "vscode": {
   "interpreter": {
    "hash": "396a487d0f9a1aeea6eec7e2661c1b70bd880358e710a503b71d50d0e4959784"
   }
  }
 },
 "nbformat": 4,
 "nbformat_minor": 4
}
