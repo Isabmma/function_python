{
 "cells": [
  {
   "cell_type": "markdown",
   "metadata": {},
   "source": [
    "# How \"returning\" more than one object\n",
    "\n",
    "- Is it possible to return more \"things\"? 2 lists, 2 strings, 2 numbers...\n",
    "    - Yes, it's just return a tuple with 2 items (we'll see some example)"
   ]
  },
  {
   "cell_type": "code",
   "execution_count": 1,
   "metadata": {},
   "outputs": [],
   "source": [
    "def basic_operations(num1, num2):\n",
    "    sum = num1 + num2\n",
    "    diference = num1 - num2\n",
    "    mult = num1 * num2\n",
    "    division = num1 / num2\n",
    "    return sum, diference, mult, division"
   ]
  },
  {
   "cell_type": "code",
   "execution_count": 2,
   "metadata": {},
   "outputs": [
    {
     "name": "stdout",
     "output_type": "stream",
     "text": [
      "(12, 8, 20, 5.0)\n"
     ]
    }
   ],
   "source": [
    "print(basic_operations(10, 2))"
   ]
  },
  {
   "cell_type": "markdown",
   "metadata": {},
   "source": [
    "### Aplication\n",
    "\n",
    "- Data Science e Artificial Inteligence use this a lot.\n",
    "\n",
    "    1. When we create a prevision model, we need to train and test that model to see if it's a good model or not.\n",
    "    2. We need to take our data and divide it into two pices, a training list and a test list.\n",
    "    3. To this example we will use two factors to do the analysis:\n",
    "        - List 1: Immobile real value.\n",
    "        - List 2: Immobile size.\n",
    "    4. So let's create a function that takes 2 lists as input and that divides each of these lists into 2, a training chunk and a test chunk. The percentage that the list will be divided is defined by a factor (which will also be a parameter of the function).\n",
    "    "
   ]
  },
  {
   "cell_type": "code",
   "execution_count": 2,
   "metadata": {},
   "outputs": [
    {
     "name": "stdout",
     "output_type": "stream",
     "text": [
      "[2.17, 1.54, 1.45, 1.94, 2.37, 2.3, 1.79, 1.8, 2.25]\n",
      "[1.37]\n"
     ]
    }
   ],
   "source": [
    "#simples example to facilitate the visualization\n",
    "immobile_values = [2.17,1.54,1.45,1.94,2.37,2.3,1.79,1.8,2.25,1.37]\n",
    "immobile_sizes = [207,148,130,203,257,228,160,194,232,147]\n",
    "\n",
    "#Let's define which factor we are going to divide the lists (that is, how many % of the list will be for testing. The rest is for training)\n",
    "#Let's use 0.1 (10%)\n",
    "factor = 0.1\n",
    "#That means the test list has how many items?\n",
    "i = int((1 - factor) * len(immobile_values))\n",
    "#Now let's understand what count we have to do to split the list into 2 lists. One with 90% of the values and the other with 10%\n",
    "train_values = immobile_values[:i]\n",
    "test_values = immobile_values[i:]\n",
    "print(train_values)\n",
    "print(test_values)\n"
   ]
  },
  {
   "cell_type": "code",
   "execution_count": 5,
   "metadata": {},
   "outputs": [
    {
     "name": "stdout",
     "output_type": "stream",
     "text": [
      "100\n",
      "[2.17, 1.54, 1.45, 1.94, 2.37, 2.3, 1.79, 1.8, 2.25, 1.37, 2.4, 1.72, 2, 1.69, 1.63, 2.01, 2.25, 1.61, 1.02, 1.19, 1.86, 2.15, 2.03, 1.61, 1.52, 1.56, 1.69, 1.47, 1.09, 2.47, 1.62, 2.15, 1.81, 2.49, 2.08, 1.02, 1.68, 1.53, 1.2, 1.29, 1.88, 1.92, 2.14, 1.95, 2.48, 2.44, 1.41, 1.98, 1.89, 1.69, 1.95, 1.42, 1.57, 2.32, 1.23, 1.43, 1.35, 1.49, 2.39, 2.37, 1.3, 2.25, 1.5, 1.35, 2.06, 1.05, 1.7, 2.29, 2.44, 2.09, 1.81, 2.04, 2.45, 1.42, 2.09, 2.19, 2.09, 1, 2.23, 1.39, 2, 1.29, 1.55, 1.67, 2.06, 1.89, 2.07, 2.39, 1.93, 1.51] [1.73, 1.66, 1.18, 1.13, 1.69, 2.48, 1.26, 1.75, 1.51, 1.73] [207, 148, 130, 203, 257, 228, 160, 194, 232, 147, 222, 165, 184, 175, 147, 217, 214, 171, 86, 111, 180, 211, 210, 168, 156, 154, 179, 163, 99, 246, 162, 205, 195, 263, 198, 121, 149, 140, 122, 119, 197, 210, 218, 202, 258, 256, 135, 203, 173, 152, 197, 145, 154, 252, 141, 141, 151, 133, 232, 229, 134, 215, 155, 138, 186, 120, 152, 213, 256, 219, 200, 210, 238, 140, 224, 233, 222, 120, 233, 151, 185, 111, 149, 186, 194, 194, 222, 223, 185, 157] [154, 164, 129, 128, 169, 240, 136, 191, 157, 154]\n"
     ]
    }
   ],
   "source": [
    "immobile_values = [2.17,1.54,1.45,1.94,2.37,2.3,1.79,1.8,2.25,1.37,2.4,1.72,2,1.69,1.63,2.01,2.25,1.61,1.02,1.19,1.86,2.15,2.03,1.61,1.52,1.56,1.69,1.47,1.09,2.47,1.62,2.15,1.81,2.49,2.08,1.02,1.68,1.53,1.2,1.29,1.88,1.92,2.14,1.95,2.48,2.44,1.41,1.98,1.89,1.69,1.95,1.42,1.57,2.32,1.23,1.43,1.35,1.49,2.39,2.37,1.3,2.25,1.5,1.35,2.06,1.05,1.7,2.29,2.44,2.09,1.81,2.04,2.45,1.42,2.09,2.19,2.09,1,2.23,1.39,2,1.29,1.55,1.67,2.06,1.89,2.07,2.39,1.93,1.51,1.73,1.66,1.18,1.13,1.69,2.48,1.26,1.75, 1.51, 1.73]\n",
    "immobile_sizes = [207,148,130,203,257,228,160,194,232,147,222,165,184,175,147,217,214,171,86,111,180,211,210,168,156,154,179,163,99,246,162,205,195,263,198,121,149,140,122,119,197,210,218,202,258,256,135,203,173,152,197,145,154,252,141,141,151,133,232,229,134,215,155,138,186,120,152,213,256,219,200,210,238,140,224,233,222,120,233,151,185,111,149,186,194,194,222,223,185,157,154,164,129,128,169,240,136,191, 157, 154]\n",
    "\n",
    "\n",
    "def separate_lists(values, sizes, factor=0.1):\n",
    "        if len(values) == len(sizes):\n",
    "            #executar o codigo\n",
    "            i = int((1 - factor) * len(values))\n",
    "            immobile_values_training = values[:i]\n",
    "            immobile_values_test = values[i:]\n",
    "            immobile_size_test = sizes[i:]\n",
    "            immobile_size_training = sizes[:i]\n",
    "            return  immobile_values_training, immobile_values_test, immobile_size_training, immobile_size_test\n",
    "        else:\n",
    "            print('Property price and size lists do not have the same amount of items')\n",
    "            return\n",
    "\n",
    "\n",
    "print(len(immobile_values))\n",
    "values_training, values_test, size_training, size_test = separate_lists(immobile_values, immobile_sizes)\n",
    "print(values_training, values_test, size_training, size_test)"
   ]
  }
 ],
 "metadata": {
  "kernelspec": {
   "display_name": "Python 3.10.4 64-bit",
   "language": "python",
   "name": "python3"
  },
  "language_info": {
   "codemirror_mode": {
    "name": "ipython",
    "version": 3
   },
   "file_extension": ".py",
   "mimetype": "text/x-python",
   "name": "python",
   "nbconvert_exporter": "python",
   "pygments_lexer": "ipython3",
   "version": "3.10.4"
  },
  "vscode": {
   "interpreter": {
    "hash": "396a487d0f9a1aeea6eec7e2661c1b70bd880358e710a503b71d50d0e4959784"
   }
  }
 },
 "nbformat": 4,
 "nbformat_minor": 4
}
